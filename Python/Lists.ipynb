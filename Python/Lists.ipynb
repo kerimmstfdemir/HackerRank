{
 "cells": [
  {
   "cell_type": "markdown",
   "id": "9177b069",
   "metadata": {},
   "source": [
    "### Hackerrank Link"
   ]
  },
  {
   "cell_type": "markdown",
   "id": "4e079406",
   "metadata": {},
   "source": [
    "https://www.hackerrank.com/challenges/python-lists/problem?isFullScreen=true"
   ]
  },
  {
   "cell_type": "markdown",
   "id": "0fc0c9b7",
   "metadata": {},
   "source": [
    "Consider a list (list = []). You can perform the following commands:\n",
    "<ol>\n",
    "<li><b>insert i e</b>: Insert integer e at position i.</li>\n",
    "<li><b>print</b>: Print the list.</li>\n",
    "<li><b>remove e</b>: Delete the first occurrence of integer e.</li>\n",
    "<li><b>append e</b>: Insert integer e at the end of the list.</li>\n",
    "<li><b>sort</b>: Sort the list.</li>\n",
    "<li><b>pop</b>: Pop the last element from the list.</li>\n",
    "<li><b>reverse</b>: Reverse the list.</li>\n",
    "</ol>"
   ]
  },
  {
   "cell_type": "markdown",
   "id": "6e7207e6",
   "metadata": {},
   "source": [
    "### Code :"
   ]
  },
  {
   "cell_type": "code",
   "execution_count": 2,
   "id": "bd28fbf8",
   "metadata": {},
   "outputs": [
    {
     "name": "stdout",
     "output_type": "stream",
     "text": [
      "How many commands will you enter? : 12\n",
      "insert 0 5\n",
      "insert 1 10\n",
      "insert 0 6\n",
      "print\n",
      "remove 6\n",
      "append 9\n",
      "append 1\n",
      "sort\n",
      "print\n",
      "pop\n",
      "reverse\n",
      "print\n",
      "[6, 5, 10]\n",
      "[1, 5, 9, 10]\n",
      "[9, 5, 1]\n"
     ]
    }
   ],
   "source": [
    "N = int(input('How many commands will you enter? : '))\n",
    "list_ = []\n",
    "commands = []\n",
    "\n",
    "while N > 0 :\n",
    "    commands.append(input(\"\"))\n",
    "    N -= 1\n",
    "    \n",
    "for i in commands :\n",
    "    j = i.split()\n",
    "    if j[0].lower() == \"insert\" :\n",
    "        list_.insert(int(j[1]), int(j[2]))\n",
    "    elif j[0].lower() == \"print\" :\n",
    "        print(list_)\n",
    "    elif j[0].lower() == \"remove\" :\n",
    "        list_.remove(int(j[1]))\n",
    "    elif j[0].lower() == \"append\" :\n",
    "        list_.append(int(j[1]))\n",
    "    elif j[0].lower() == \"sort\" :\n",
    "        list_.sort()\n",
    "    elif j[0].lower() == \"pop\" :\n",
    "        list_.pop()\n",
    "    elif j[0].lower() == \"reverse\" :\n",
    "        list_.sort(reverse=True)\n",
    "    else :\n",
    "        print(f\"You entered the {j[0]} command incorrectly...\")"
   ]
  },
  {
   "cell_type": "code",
   "execution_count": null,
   "id": "ae4dcab7",
   "metadata": {},
   "outputs": [],
   "source": []
  }
 ],
 "metadata": {
  "kernelspec": {
   "display_name": "Python 3 (ipykernel)",
   "language": "python",
   "name": "python3"
  },
  "language_info": {
   "codemirror_mode": {
    "name": "ipython",
    "version": 3
   },
   "file_extension": ".py",
   "mimetype": "text/x-python",
   "name": "python",
   "nbconvert_exporter": "python",
   "pygments_lexer": "ipython3",
   "version": "3.9.12"
  }
 },
 "nbformat": 4,
 "nbformat_minor": 5
}
