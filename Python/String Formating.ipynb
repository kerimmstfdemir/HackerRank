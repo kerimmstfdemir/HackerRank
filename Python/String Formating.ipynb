{
 "cells": [
  {
   "cell_type": "code",
   "execution_count": 2,
   "id": "574f69f4",
   "metadata": {},
   "outputs": [],
   "source": [
    "def print_formatted(number) : \n",
    "    converted_format = \"\"\n",
    "    binary_max = \"\"\n",
    "    remain = 0\n",
    "    number_ = number\n",
    "    \n",
    "    while number >= 2 :\n",
    "        remain = number % 2\n",
    "        number //=  2\n",
    "        binary_max += str(remain)\n",
    "\n",
    "    binary_max = str(number) + binary_max\n",
    "    number = number_\n",
    "\n",
    "    for i in range(1, number+1): \n",
    "        first_value = i\n",
    "        print(str(i).rjust(len(binary_max)), end=\"\")\n",
    "\n",
    "        while i >= 8 :\n",
    "            remain = i % 8\n",
    "            i //=  8\n",
    "            converted_format += str(remain)\n",
    "\n",
    "        print((str(i) + converted_format[::-1]).rjust(len(binary_max)+1), end=\"\")\n",
    "        converted_format = \"\"\n",
    "    \n",
    "        print((hex(first_value)[2::]).upper().rjust(len(binary_max)+1), end=\"\")\n",
    "\n",
    "        i = first_value\n",
    "\n",
    "        while i >= 2 :\n",
    "            remain = i % 2\n",
    "            i //=  2\n",
    "            converted_format += str(remain)\n",
    "\n",
    "        print((str(i) + converted_format[::-1]).rjust(len(binary_max)+1))\n",
    "        converted_format = \"\""
   ]
  },
  {
   "cell_type": "code",
   "execution_count": 3,
   "id": "95542222",
   "metadata": {},
   "outputs": [
    {
     "name": "stdout",
     "output_type": "stream",
     "text": [
      "     1      1      1      1\n",
      "     2      2      2     10\n",
      "     3      3      3     11\n",
      "     4      4      4    100\n",
      "     5      5      5    101\n",
      "     6      6      6    110\n",
      "     7      7      7    111\n",
      "     8     10      8   1000\n",
      "     9     11      9   1001\n",
      "    10     12      A   1010\n",
      "    11     13      B   1011\n",
      "    12     14      C   1100\n",
      "    13     15      D   1101\n",
      "    14     16      E   1110\n",
      "    15     17      F   1111\n",
      "    16     20     10  10000\n",
      "    17     21     11  10001\n",
      "    18     22     12  10010\n",
      "    19     23     13  10011\n",
      "    20     24     14  10100\n",
      "    21     25     15  10101\n",
      "    22     26     16  10110\n",
      "    23     27     17  10111\n",
      "    24     30     18  11000\n",
      "    25     31     19  11001\n",
      "    26     32     1A  11010\n",
      "    27     33     1B  11011\n",
      "    28     34     1C  11100\n",
      "    29     35     1D  11101\n",
      "    30     36     1E  11110\n",
      "    31     37     1F  11111\n",
      "    32     40     20 100000\n",
      "    33     41     21 100001\n",
      "    34     42     22 100010\n",
      "    35     43     23 100011\n",
      "    36     44     24 100100\n"
     ]
    }
   ],
   "source": [
    "print_formatted(36)"
   ]
  },
  {
   "cell_type": "code",
   "execution_count": null,
   "id": "cbfaea17",
   "metadata": {},
   "outputs": [],
   "source": []
  }
 ],
 "metadata": {
  "kernelspec": {
   "display_name": "Python 3 (ipykernel)",
   "language": "python",
   "name": "python3"
  },
  "language_info": {
   "codemirror_mode": {
    "name": "ipython",
    "version": 3
   },
   "file_extension": ".py",
   "mimetype": "text/x-python",
   "name": "python",
   "nbconvert_exporter": "python",
   "pygments_lexer": "ipython3",
   "version": "3.9.12"
  }
 },
 "nbformat": 4,
 "nbformat_minor": 5
}
